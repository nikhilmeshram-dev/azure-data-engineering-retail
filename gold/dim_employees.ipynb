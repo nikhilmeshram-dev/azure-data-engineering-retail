{
 "cells": [
  {
   "cell_type": "code",
   "execution_count": 0,
   "metadata": {
    "application/vnd.databricks.v1+cell": {
     "cellMetadata": {
      "byteLimit": 2048000,
      "rowLimit": 10000
     },
     "inputWidgets": {},
     "nuid": "db195b47-f968-4d9c-96c8-148e86a564e5",
     "showTitle": false,
     "tableResultSettingsMap": {},
     "title": ""
    }
   },
   "outputs": [],
   "source": [
    "from pyspark.sql.functions import *\n",
    "from pyspark.sql.window import *\n",
    "from delta.tables import DeltaTable"
   ]
  },
  {
   "cell_type": "markdown",
   "metadata": {
    "application/vnd.databricks.v1+cell": {
     "cellMetadata": {
      "byteLimit": 2048000,
      "rowLimit": 10000
     },
     "inputWidgets": {},
     "nuid": "3ed64b6b-3d3c-44aa-918a-36e7acee7d65",
     "showTitle": false,
     "tableResultSettingsMap": {},
     "title": ""
    }
   },
   "source": [
    "**Define paths**"
   ]
  },
  {
   "cell_type": "code",
   "execution_count": 0,
   "metadata": {
    "application/vnd.databricks.v1+cell": {
     "cellMetadata": {
      "byteLimit": 2048000,
      "rowLimit": 10000
     },
     "inputWidgets": {},
     "nuid": "29ca679e-c3c6-4567-8245-ce4bcb165408",
     "showTitle": false,
     "tableResultSettingsMap": {},
     "title": ""
    }
   },
   "outputs": [],
   "source": [
    "silver_path  = \"abfss://silver@stretailenvdev.dfs.core.windows.net/s_Employee\"\n",
    "gold_path = \"abfss://gold@stretailenvdev.dfs.core.windows.net/dim_employee\""
   ]
  },
  {
   "cell_type": "markdown",
   "metadata": {
    "application/vnd.databricks.v1+cell": {
     "cellMetadata": {
      "byteLimit": 2048000,
      "rowLimit": 10000
     },
     "inputWidgets": {},
     "nuid": "75b739a2-e76c-4baa-a953-94b8a2f2578f",
     "showTitle": false,
     "tableResultSettingsMap": {},
     "title": ""
    }
   },
   "source": [
    "**Create delta lake dim_employee if not exists**"
   ]
  },
  {
   "cell_type": "code",
   "execution_count": 0,
   "metadata": {
    "application/vnd.databricks.v1+cell": {
     "cellMetadata": {
      "byteLimit": 2048000,
      "rowLimit": 10000
     },
     "inputWidgets": {},
     "nuid": "608f45f6-e4b6-4aa2-b136-3711cfb6e85b",
     "showTitle": false,
     "tableResultSettingsMap": {},
     "title": ""
    }
   },
   "outputs": [],
   "source": [
    "spark.sql(f\"\"\"\n",
    "          CREATE TABLE IF NOT EXISTS retail_cata.gold.dim_employee(\n",
    "              Employee_key BIGINT GENERATED ALWAYS AS IDENTITY(START WITH 1 INCREMENT BY 1), \n",
    "              EmployeeID   INT,\n",
    "              FirstName    STRING,\n",
    "              LastName     STRING,\n",
    "              Role         STRING,\n",
    "              StoreID      STRING,\n",
    "              HireDate     TIMESTAMP,\n",
    "              StartDate    TIMESTAMP,\n",
    "              Enddate      TIMESTAMP,\n",
    "              IsActive     BOOLEAN \n",
    "          )USING DELTA\n",
    "          LOCATION '{gold_path}'\n",
    "          \"\"\")"
   ]
  },
  {
   "cell_type": "markdown",
   "metadata": {
    "application/vnd.databricks.v1+cell": {
     "cellMetadata": {
      "byteLimit": 2048000,
      "rowLimit": 10000
     },
     "inputWidgets": {},
     "nuid": "9d672959-9c30-4461-a10f-4806600d749c",
     "showTitle": false,
     "tableResultSettingsMap": {},
     "title": ""
    }
   },
   "source": [
    "**Load silver data**"
   ]
  },
  {
   "cell_type": "code",
   "execution_count": 0,
   "metadata": {
    "application/vnd.databricks.v1+cell": {
     "cellMetadata": {
      "byteLimit": 2048000,
      "rowLimit": 10000
     },
     "inputWidgets": {},
     "nuid": "69631489-4a61-463c-be74-f36e6b5fda79",
     "showTitle": false,
     "tableResultSettingsMap": {},
     "title": ""
    }
   },
   "outputs": [],
   "source": [
    "silver_df = spark.read.format(\"delta\").load(silver_path)"
   ]
  },
  {
   "cell_type": "markdown",
   "metadata": {
    "application/vnd.databricks.v1+cell": {
     "cellMetadata": {
      "byteLimit": 2048000,
      "rowLimit": 10000
     },
     "inputWidgets": {},
     "nuid": "bee9eb69-cb72-41b4-8125-8f5718620eab",
     "showTitle": false,
     "tableResultSettingsMap": {},
     "title": ""
    }
   },
   "source": [
    "**Add SCD2 Columns**"
   ]
  },
  {
   "cell_type": "code",
   "execution_count": 0,
   "metadata": {
    "application/vnd.databricks.v1+cell": {
     "cellMetadata": {
      "byteLimit": 2048000,
      "rowLimit": 10000
     },
     "inputWidgets": {},
     "nuid": "d8c5f4dc-06c8-42bc-8948-6556189011ab",
     "showTitle": false,
     "tableResultSettingsMap": {},
     "title": ""
    }
   },
   "outputs": [],
   "source": [
    "stg_employee = silver_df.withColumn(\"StartDate\",current_date())\\\n",
    "                        .withColumn(\"EndDate\", lit(None).cast(\"timestamp\"))\\\n",
    "                        .withColumn(\"IsActive\", lit(True))"
   ]
  },
  {
   "cell_type": "code",
   "execution_count": 0,
   "metadata": {
    "application/vnd.databricks.v1+cell": {
     "cellMetadata": {
      "byteLimit": 2048000,
      "rowLimit": 10000
     },
     "inputWidgets": {},
     "nuid": "99b07dc8-75d6-49ba-8a54-9ee54195c919",
     "showTitle": false,
     "tableResultSettingsMap": {
      "0": {
       "dataGridStateBlob": "{\"version\":1,\"tableState\":{\"columnPinning\":{\"left\":[\"#row_number#\"],\"right\":[]},\"columnSizing\":{},\"columnVisibility\":{}},\"settings\":{\"columns\":{}},\"syncTimestamp\":1756791642317}",
       "filterBlob": null,
       "queryPlanFiltersBlob": null,
       "tableResultIndex": 0
      }
     },
     "title": ""
    }
   },
   "outputs": [],
   "source": [
    "stg_employee.limit(5).display()"
   ]
  },
  {
   "cell_type": "markdown",
   "metadata": {
    "application/vnd.databricks.v1+cell": {
     "cellMetadata": {
      "byteLimit": 2048000,
      "rowLimit": 10000
     },
     "inputWidgets": {},
     "nuid": "30aa37df-1f3b-4593-908f-acff1f954a32",
     "showTitle": false,
     "tableResultSettingsMap": {},
     "title": ""
    }
   },
   "source": [
    "**Load Gold Delta Table**"
   ]
  },
  {
   "cell_type": "code",
   "execution_count": 0,
   "metadata": {
    "application/vnd.databricks.v1+cell": {
     "cellMetadata": {
      "byteLimit": 2048000,
      "rowLimit": 10000
     },
     "inputWidgets": {},
     "nuid": "0d06cf7f-6997-4f6e-83da-01eddaa91dd5",
     "showTitle": false,
     "tableResultSettingsMap": {},
     "title": ""
    }
   },
   "outputs": [],
   "source": [
    "if DeltaTable.isDeltaTable(spark, gold_path):\n",
    "    dim_employee = DeltaTable.forPath(spark, gold_path)\n",
    "else:\n",
    "    # First-time load \n",
    "    stg_employee.write.format(\"delta\").mode(\"append\").save(gold_path)\n",
    "    dim_employee = DeltaTable.forPath(spark, gold_path)\n",
    "\n",
    "\n"
   ]
  },
  {
   "cell_type": "markdown",
   "metadata": {
    "application/vnd.databricks.v1+cell": {
     "cellMetadata": {
      "byteLimit": 2048000,
      "rowLimit": 10000
     },
     "inputWidgets": {},
     "nuid": "87e63452-a094-4854-bf6f-4d6c69259178",
     "showTitle": false,
     "tableResultSettingsMap": {},
     "title": ""
    }
   },
   "source": [
    "**Merge for SCD2**"
   ]
  },
  {
   "cell_type": "code",
   "execution_count": 0,
   "metadata": {
    "application/vnd.databricks.v1+cell": {
     "cellMetadata": {
      "byteLimit": 2048000,
      "rowLimit": 10000
     },
     "inputWidgets": {},
     "nuid": "b4d9fc01-f1ea-47a7-a57e-7c91dde03a18",
     "showTitle": false,
     "tableResultSettingsMap": {},
     "title": ""
    }
   },
   "outputs": [],
   "source": [
    "(\n",
    "    dim_employee.alias(\"t\")\n",
    "    .merge(\n",
    "        stg_employee.alias(\"s\"),\n",
    "        \"t.EmployeeID = s.EmployeeID AND t.IsActive = true\"\n",
    "    )\n",
    "    .whenMatchedUpdate(\n",
    "        condition =\"\"\"\n",
    "             t.FirstName <> s.FirstName OR\n",
    "             t.LastName <> s.LastName OR\n",
    "             t.Role <> s.Role OR\n",
    "             t.StoreID <> s.StoreID OR\n",
    "             t.HireDate <> s.HireDate \n",
    "        \"\"\",\n",
    "        set={\n",
    "            \"EndDate\" : \"current_date()\",\n",
    "            \"IsActive\" : \"False\"\n",
    "        }\n",
    "    )\n",
    "    .whenNotMatchedInsert(\n",
    "        values={\n",
    "            \"EmployeeID\" : \"s.EmployeeID\",\n",
    "            \"FirstName\"  : \"s.FirstName\",\n",
    "            \"LastName\"   : \"s.LastName\",\n",
    "            \"Role\"       : \"s.Role\",\n",
    "            \"StoreID\"    : \"s.StoreID\",\n",
    "            \"HireDate\"   : \"s.HireDate\",\n",
    "            \"StartDate\"  : \"s.StartDate\",\n",
    "            \"EndDate\"    : \"s.EndDate\",\n",
    "            \"IsActive\"   : \"s.IsActive\"\n",
    "        }\n",
    "    )\n",
    "    .execute()\n",
    ")"
   ]
  },
  {
   "cell_type": "code",
   "execution_count": 0,
   "metadata": {
    "application/vnd.databricks.v1+cell": {
     "cellMetadata": {
      "byteLimit": 2048000,
      "implicitDf": true,
      "rowLimit": 10000
     },
     "inputWidgets": {},
     "nuid": "1dd1134e-fd8e-4807-b448-6dca73440715",
     "showTitle": false,
     "tableResultSettingsMap": {},
     "title": ""
    }
   },
   "outputs": [],
   "source": [
    "%sql\n",
    "SELECT *\n",
    "FROM retail_cata.gold.dim_employee\n",
    "ORDER BY employee_key DESC\n",
    "LIMIT 10"
   ]
  },
  {
   "cell_type": "markdown",
   "metadata": {
    "application/vnd.databricks.v1+cell": {
     "cellMetadata": {
      "byteLimit": 2048000,
      "rowLimit": 10000
     },
     "inputWidgets": {},
     "nuid": "69ac1638-b10a-45b1-978b-05bbf63a7491",
     "showTitle": false,
     "tableResultSettingsMap": {},
     "title": ""
    }
   },
   "source": []
  }
 ],
 "metadata": {
  "application/vnd.databricks.v1+notebook": {
   "computePreferences": null,
   "dashboards": [],
   "environmentMetadata": {
    "base_environment": "",
    "environment_version": "3"
   },
   "inputWidgetPreferences": null,
   "language": "python",
   "notebookMetadata": {
    "mostRecentlyExecutedCommandWithImplicitDF": {
     "commandId": 7241867814479077,
     "dataframes": [
      "_sqldf"
     ]
    },
    "pythonIndentUnit": 4
   },
   "notebookName": "dim_employees",
   "widgets": {}
  },
  "language_info": {
   "name": "python"
  }
 },
 "nbformat": 4,
 "nbformat_minor": 0
}
