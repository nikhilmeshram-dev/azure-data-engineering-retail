{
 "cells": [
  {
   "cell_type": "code",
   "execution_count": 0,
   "metadata": {
    "application/vnd.databricks.v1+cell": {
     "cellMetadata": {
      "byteLimit": 2048000,
      "rowLimit": 10000
     },
     "inputWidgets": {},
     "nuid": "26c2159e-0d56-489c-b046-ac0d0bbe8a1c",
     "showTitle": false,
     "tableResultSettingsMap": {},
     "title": ""
    }
   },
   "outputs": [],
   "source": [
    "from  pyspark.sql.functions import *\n",
    "from pyspark.sql.window import *\n",
    "from delta.tables import DeltaTable"
   ]
  },
  {
   "cell_type": "markdown",
   "metadata": {
    "application/vnd.databricks.v1+cell": {
     "cellMetadata": {
      "byteLimit": 2048000,
      "rowLimit": 10000
     },
     "inputWidgets": {},
     "nuid": "68bd6c07-95e3-4576-aabf-47201697f2f9",
     "showTitle": false,
     "tableResultSettingsMap": {},
     "title": ""
    }
   },
   "source": [
    "**Define paths**"
   ]
  },
  {
   "cell_type": "code",
   "execution_count": 0,
   "metadata": {
    "application/vnd.databricks.v1+cell": {
     "cellMetadata": {
      "byteLimit": 2048000,
      "rowLimit": 10000
     },
     "inputWidgets": {},
     "nuid": "0c05cd8b-7639-4a35-a37e-5e11fb18b39d",
     "showTitle": false,
     "tableResultSettingsMap": {},
     "title": ""
    }
   },
   "outputs": [],
   "source": [
    "silver_stores = \"abfss://silver@stretailenvdev.dfs.core.windows.net/s_stores\"\n",
    "gold_stores = \"abfss://gold@stretailenvdev.dfs.core.windows.net/reference_data/dim_store\"\n"
   ]
  },
  {
   "cell_type": "code",
   "execution_count": 0,
   "metadata": {
    "application/vnd.databricks.v1+cell": {
     "cellMetadata": {
      "byteLimit": 2048000,
      "rowLimit": 10000
     },
     "inputWidgets": {},
     "nuid": "478b4169-141f-4d26-9c52-c74de7e2356b",
     "showTitle": false,
     "tableResultSettingsMap": {},
     "title": ""
    }
   },
   "outputs": [],
   "source": [
    "spark.read.format(\"delta\").load(silver_stores).printSchema()\n"
   ]
  },
  {
   "cell_type": "markdown",
   "metadata": {
    "application/vnd.databricks.v1+cell": {
     "cellMetadata": {
      "byteLimit": 2048000,
      "rowLimit": 10000
     },
     "inputWidgets": {},
     "nuid": "56073770-8793-4a2c-9ec0-9c4a926b0e89",
     "showTitle": false,
     "tableResultSettingsMap": {},
     "title": ""
    }
   },
   "source": [
    "**CREATE DELTA LAKE TABLE IF NOT EXISTS**"
   ]
  },
  {
   "cell_type": "code",
   "execution_count": 0,
   "metadata": {
    "application/vnd.databricks.v1+cell": {
     "cellMetadata": {
      "byteLimit": 2048000,
      "implicitDf": true,
      "rowLimit": 10000
     },
     "inputWidgets": {},
     "nuid": "9355573b-57eb-4244-9b33-f7c192352ff4",
     "showTitle": false,
     "tableResultSettingsMap": {},
     "title": ""
    }
   },
   "outputs": [],
   "source": [
    "spark.sql(f\"\"\"CREATE TABLE IF NOT EXISTS retail_cata.gold.dim_store(\n",
    "     store_key BIGINT GENERATED ALWAYS AS IDENTITY(START WITH 1 INCREMENT BY 1),\n",
    "     StoreID  INT,\n",
    "     StoreName STRING,\n",
    "     Location STRING,\n",
    "     OpeningDate TIMESTAMP ,\n",
    "     StartDate TIMESTAMP,\n",
    "     EndDate TIMESTAMP,\n",
    "     IsActive BOOLEAN\n",
    ")USING DELTA \n",
    "LOCATION \"{gold_stores}\"\n",
    "\"\"\")"
   ]
  },
  {
   "cell_type": "markdown",
   "metadata": {
    "application/vnd.databricks.v1+cell": {
     "cellMetadata": {
      "byteLimit": 2048000,
      "rowLimit": 10000
     },
     "inputWidgets": {},
     "nuid": "cd930ac3-2dac-46e9-b5d5-265c358b2f30",
     "showTitle": false,
     "tableResultSettingsMap": {},
     "title": ""
    }
   },
   "source": [
    " **Load silver store data**"
   ]
  },
  {
   "cell_type": "code",
   "execution_count": 0,
   "metadata": {
    "application/vnd.databricks.v1+cell": {
     "cellMetadata": {
      "byteLimit": 2048000,
      "rowLimit": 10000
     },
     "inputWidgets": {},
     "nuid": "80560b68-ff1a-4238-a569-3ab7480dda48",
     "showTitle": false,
     "tableResultSettingsMap": {},
     "title": ""
    }
   },
   "outputs": [],
   "source": [
    "df_stores = spark.read.format(\"delta\").load(silver_stores)\n"
   ]
  },
  {
   "cell_type": "markdown",
   "metadata": {
    "application/vnd.databricks.v1+cell": {
     "cellMetadata": {
      "byteLimit": 2048000,
      "rowLimit": 10000
     },
     "inputWidgets": {},
     "nuid": "91c8d549-e62a-430e-9939-6cbecc27e559",
     "showTitle": false,
     "tableResultSettingsMap": {},
     "title": ""
    }
   },
   "source": [
    "**Add SCD2 colums**"
   ]
  },
  {
   "cell_type": "code",
   "execution_count": 0,
   "metadata": {
    "application/vnd.databricks.v1+cell": {
     "cellMetadata": {
      "byteLimit": 2048000,
      "rowLimit": 10000
     },
     "inputWidgets": {},
     "nuid": "b139389f-0980-4603-9867-df279b0375f1",
     "showTitle": false,
     "tableResultSettingsMap": {},
     "title": ""
    }
   },
   "outputs": [],
   "source": [
    "stg_store = df_stores.withColumn(\"StartDate\", current_date())\\\n",
    "                     .withColumn(\"EndDate\", lit(None).cast(\"date\"))\\\n",
    "                     .withColumn(\"IsActive\", lit(True))\n"
   ]
  },
  {
   "cell_type": "code",
   "execution_count": 0,
   "metadata": {
    "application/vnd.databricks.v1+cell": {
     "cellMetadata": {
      "byteLimit": 2048000,
      "rowLimit": 10000
     },
     "inputWidgets": {},
     "nuid": "c4201e32-379d-42ce-93b6-73f00a69c9bb",
     "showTitle": false,
     "tableResultSettingsMap": {},
     "title": ""
    }
   },
   "outputs": [],
   "source": [
    "stg_store.limit(5).display()"
   ]
  },
  {
   "cell_type": "markdown",
   "metadata": {
    "application/vnd.databricks.v1+cell": {
     "cellMetadata": {
      "byteLimit": 2048000,
      "rowLimit": 10000
     },
     "inputWidgets": {},
     "nuid": "8afc00dc-d7c7-4569-baef-bee7abafda0d",
     "showTitle": false,
     "tableResultSettingsMap": {},
     "title": ""
    }
   },
   "source": [
    "**Load Gold data**"
   ]
  },
  {
   "cell_type": "code",
   "execution_count": 0,
   "metadata": {
    "application/vnd.databricks.v1+cell": {
     "cellMetadata": {
      "byteLimit": 2048000,
      "rowLimit": 10000
     },
     "inputWidgets": {},
     "nuid": "6b18b98e-d2f9-470f-864c-ff4e4e214bd4",
     "showTitle": false,
     "tableResultSettingsMap": {},
     "title": ""
    }
   },
   "outputs": [],
   "source": [
    "if DeltaTable.isDeltaTable(spark, gold_stores):\n",
    "    dim_stores = DeltaTable.forPath(spark, gold_stores)\n",
    "else:\n",
    "    stg_store.write.format(\"delta\").mode(\"append\").save(gold_stores)\n",
    "    dim_stores = DeltaTable.forPath(spark, gold_stores)\n",
    "\n",
    "    "
   ]
  },
  {
   "cell_type": "markdown",
   "metadata": {
    "application/vnd.databricks.v1+cell": {
     "cellMetadata": {
      "byteLimit": 2048000,
      "rowLimit": 10000
     },
     "inputWidgets": {},
     "nuid": "0611abd8-65ab-4e4d-ae1d-ad2e1d68eb5e",
     "showTitle": false,
     "tableResultSettingsMap": {},
     "title": ""
    }
   },
   "source": [
    "**Merge SCD2**"
   ]
  },
  {
   "cell_type": "code",
   "execution_count": 0,
   "metadata": {
    "application/vnd.databricks.v1+cell": {
     "cellMetadata": {
      "byteLimit": 2048000,
      "rowLimit": 10000
     },
     "inputWidgets": {},
     "nuid": "ab5b2326-72f0-4b90-9483-380aa84ae8d7",
     "showTitle": false,
     "tableResultSettingsMap": {},
     "title": ""
    }
   },
   "outputs": [],
   "source": [
    "(\n",
    "    dim_stores.alias(\"t\")\n",
    "    .merge(\n",
    "        stg_store.alias(\"s\"),\n",
    "        \"t.StoreID = s.StoreID AND t.IsActive = TRUE\"\n",
    "    )\n",
    "    .whenMatchedUpdate(\n",
    "        condition =\"\"\"\n",
    "            t.StoreID <> s.StoreID OR\n",
    "            t.StoreName <> s.StoreName OR\n",
    "            t.Location <> s.Location OR\n",
    "            t.OpeningDate <> s.OpeningDate\n",
    "        \"\"\",\n",
    "        set={\n",
    "            \"EndDate\" : \"current_date()\",\n",
    "            \"IsActive\" : \"False\"\n",
    "        }\n",
    "    )\n",
    "    .whenNotMatchedInsert(\n",
    "        values={\n",
    "            \"StoreID\" : \"s.StoreID\",\n",
    "            \"StoreName\" : \"s.StoreName\",\n",
    "            \"Location\" : \"s.Location\",\n",
    "            \"OpeningDate\" : \"s.OpeningDate\",\n",
    "            \"StartDate\" : \"s.StartDate\",\n",
    "            \"EndDate\" : \"s.EndDate\",\n",
    "            \"IsActive\" : \"s.IsActive\"\n",
    "        }\n",
    "    )\n",
    "    .execute()\n",
    ")"
   ]
  },
  {
   "cell_type": "code",
   "execution_count": 0,
   "metadata": {
    "application/vnd.databricks.v1+cell": {
     "cellMetadata": {
      "byteLimit": 2048000,
      "implicitDf": true,
      "rowLimit": 10000
     },
     "inputWidgets": {},
     "nuid": "12d93f15-5d12-4e46-a914-79317b7dff80",
     "showTitle": false,
     "tableResultSettingsMap": {},
     "title": ""
    }
   },
   "outputs": [],
   "source": [
    "%sql\n",
    "select * from retail_cata.gold.dim_store\n",
    "limit 5;"
   ]
  },
  {
   "cell_type": "markdown",
   "metadata": {
    "application/vnd.databricks.v1+cell": {
     "cellMetadata": {
      "byteLimit": 2048000,
      "rowLimit": 10000
     },
     "inputWidgets": {},
     "nuid": "bf1cae30-086a-4dcd-ac92-11b6d61aa0d7",
     "showTitle": false,
     "tableResultSettingsMap": {},
     "title": ""
    }
   },
   "source": [
    "**Define reference data paths**"
   ]
  },
  {
   "cell_type": "code",
   "execution_count": 0,
   "metadata": {
    "application/vnd.databricks.v1+cell": {
     "cellMetadata": {
      "byteLimit": 2048000,
      "rowLimit": 10000
     },
     "inputWidgets": {},
     "nuid": "026a311c-cb0f-40f9-a4c1-0549dc98dc6a",
     "showTitle": false,
     "tableResultSettingsMap": {},
     "title": ""
    }
   },
   "outputs": [],
   "source": [
    "silver_channel = \"abfss://silver@stretailenvdev.dfs.core.windows.net/reference_data/channels\"\n",
    "silver_pytmethods = \"abfss://silver@stretailenvdev.dfs.core.windows.net/reference_data/paymentmethods\"\n",
    "silver_prdtsubcate = \"abfss://silver@stretailenvdev.dfs.core.windows.net/reference_data/productsubcategories\""
   ]
  },
  {
   "cell_type": "code",
   "execution_count": 0,
   "metadata": {
    "application/vnd.databricks.v1+cell": {
     "cellMetadata": {
      "byteLimit": 2048000,
      "rowLimit": 10000
     },
     "inputWidgets": {},
     "nuid": "33c6aad8-1487-4b09-8033-471da9b0b2c8",
     "showTitle": false,
     "tableResultSettingsMap": {},
     "title": ""
    }
   },
   "outputs": [],
   "source": [
    "gold_channel = \"abfss://gold@stretailenvdev.dfs.core.windows.net/reference_data/dim_channel\"\n",
    "gold_pytmethods = \"abfss://gold@stretailenvdev.dfs.core.windows.net/reference_data/dim_paymentmethod\"\n",
    "gold_prdtsubcate = \"abfss://gold@stretailenvdev.dfs.core.windows.net/reference_data/dim_productsubcat\""
   ]
  },
  {
   "cell_type": "markdown",
   "metadata": {
    "application/vnd.databricks.v1+cell": {
     "cellMetadata": {
      "byteLimit": 2048000,
      "rowLimit": 10000
     },
     "inputWidgets": {},
     "nuid": "a162e310-afa1-47f6-ac51-40ac037cd20e",
     "showTitle": false,
     "tableResultSettingsMap": {},
     "title": ""
    }
   },
   "source": [
    "**Define Delta lake Table for reference data**"
   ]
  },
  {
   "cell_type": "markdown",
   "metadata": {
    "application/vnd.databricks.v1+cell": {
     "cellMetadata": {
      "byteLimit": 2048000,
      "implicitDf": true,
      "rowLimit": 10000
     },
     "inputWidgets": {},
     "nuid": "ec7dcf27-f64c-46e0-9f93-b304ad6b998f",
     "showTitle": false,
     "tableResultSettingsMap": {},
     "title": ""
    }
   },
   "source": [
    "DROP TABLE IF EXISTS retail_cata.gold.dim_channel2;\n",
    "DROP TABLE IF EXISTS retail_cata.gold.dim_channel;\n",
    "DROP TABLE IF EXISTS retail_cata.gold.dim_paymentmethod;\n",
    "DROP TABLE IF EXISTS retail_cata.gold.dim_productsubcat;"
   ]
  },
  {
   "cell_type": "markdown",
   "metadata": {
    "application/vnd.databricks.v1+cell": {
     "cellMetadata": {
      "byteLimit": 2048000,
      "rowLimit": 10000
     },
     "inputWidgets": {},
     "nuid": "c981457a-26da-4235-99e3-28b94cdd26f3",
     "showTitle": false,
     "tableResultSettingsMap": {},
     "title": ""
    }
   },
   "source": [
    "**Dim_channel Table schema**"
   ]
  },
  {
   "cell_type": "code",
   "execution_count": 0,
   "metadata": {
    "application/vnd.databricks.v1+cell": {
     "cellMetadata": {
      "byteLimit": 2048000,
      "rowLimit": 10000
     },
     "inputWidgets": {},
     "nuid": "2dd52270-5cc0-4e6f-88d8-2fcb40867849",
     "showTitle": false,
     "tableResultSettingsMap": {},
     "title": ""
    }
   },
   "outputs": [],
   "source": [
    "spark.sql(f\"\"\"\n",
    "          CREATE TABLE IF NOT EXISTS retail_cata.gold.dim_channel(\n",
    "              channel_key INT,\n",
    "              ChannelID INT,\n",
    "              ChannelName STRING,\n",
    "              Description STRING,\n",
    "              LoadDate TIMESTAMP\n",
    "          )USING DELTA \n",
    "          LOCATION \"{gold_channel}\"\n",
    "          \"\"\")"
   ]
  },
  {
   "cell_type": "markdown",
   "metadata": {
    "application/vnd.databricks.v1+cell": {
     "cellMetadata": {
      "byteLimit": 2048000,
      "rowLimit": 10000
     },
     "inputWidgets": {},
     "nuid": "ecc3a9c0-cafb-4775-864d-a3145f170c1a",
     "showTitle": false,
     "tableResultSettingsMap": {},
     "title": ""
    }
   },
   "source": [
    "**Dim_paymentmethod schema**"
   ]
  },
  {
   "cell_type": "code",
   "execution_count": 0,
   "metadata": {
    "application/vnd.databricks.v1+cell": {
     "cellMetadata": {
      "byteLimit": 2048000,
      "rowLimit": 10000
     },
     "inputWidgets": {},
     "nuid": "bdeb9a5e-70db-4170-8f20-9727dbd6268b",
     "showTitle": false,
     "tableResultSettingsMap": {},
     "title": ""
    }
   },
   "outputs": [],
   "source": [
    "spark.sql(f\"\"\"\n",
    "          CREATE TABLE IF NOT EXISTS retail_cata.gold.dim_paymentmethod(\n",
    "              paymentmethod_key INT,\n",
    "              PaymentMethodID INT,\n",
    "              MethodName STRING,\n",
    "              LoadDate TIMESTAMP\n",
    "          ) USING DELTA \n",
    "          LOCATION \"{gold_pytmethods}\"\n",
    "          \"\"\")"
   ]
  },
  {
   "cell_type": "markdown",
   "metadata": {
    "application/vnd.databricks.v1+cell": {
     "cellMetadata": {
      "byteLimit": 2048000,
      "rowLimit": 10000
     },
     "inputWidgets": {},
     "nuid": "9dde1d34-4d2e-474e-a4b9-b216bb3688d4",
     "showTitle": false,
     "tableResultSettingsMap": {},
     "title": ""
    }
   },
   "source": [
    "**Dim_productsubcategory schema**"
   ]
  },
  {
   "cell_type": "code",
   "execution_count": 0,
   "metadata": {
    "application/vnd.databricks.v1+cell": {
     "cellMetadata": {
      "byteLimit": 2048000,
      "rowLimit": 10000
     },
     "inputWidgets": {},
     "nuid": "37099eb8-a89a-433b-a5b3-98ab0fcb072c",
     "showTitle": false,
     "tableResultSettingsMap": {},
     "title": ""
    }
   },
   "outputs": [],
   "source": [
    "spark.sql(f\"\"\"\n",
    "          CREATE TABLE IF NOT EXISTS retail_cata.gold.dim_productsubcat(\n",
    "              subcategory_key INT,\n",
    "              SubCategoryID INT,\n",
    "              CategoryID INT,\n",
    "              SubCategoryName STRING,\n",
    "              LoadDate TIMESTAMP\n",
    "          )USING DELTA\n",
    "          LOCATION \"{gold_prdtsubcate}\"\n",
    "          \"\"\")"
   ]
  },
  {
   "cell_type": "markdown",
   "metadata": {
    "application/vnd.databricks.v1+cell": {
     "cellMetadata": {
      "byteLimit": 2048000,
      "rowLimit": 10000
     },
     "inputWidgets": {},
     "nuid": "ce924314-e474-4d7f-bbbc-6868b652995f",
     "showTitle": false,
     "tableResultSettingsMap": {},
     "title": ""
    }
   },
   "source": [
    "**load silver layer data**"
   ]
  },
  {
   "cell_type": "code",
   "execution_count": 0,
   "metadata": {
    "application/vnd.databricks.v1+cell": {
     "cellMetadata": {
      "byteLimit": 2048000,
      "rowLimit": 10000
     },
     "inputWidgets": {},
     "nuid": "3f9d4fdb-77b3-4613-8a58-2003d3326139",
     "showTitle": false,
     "tableResultSettingsMap": {},
     "title": ""
    }
   },
   "outputs": [],
   "source": [
    "df_channel = spark.read.format(\"delta\").load(silver_channel)\n",
    "df_paymentmethod = spark.read.format(\"delta\").load(silver_pytmethods)\n",
    "df_productsubcat = spark.read.format(\"delta\").load(silver_prdtsubcate)"
   ]
  },
  {
   "cell_type": "markdown",
   "metadata": {
    "application/vnd.databricks.v1+cell": {
     "cellMetadata": {
      "byteLimit": 2048000,
      "rowLimit": 10000
     },
     "inputWidgets": {},
     "nuid": "c35323f7-79fa-449d-97f9-6aa6b001d2d1",
     "showTitle": false,
     "tableResultSettingsMap": {},
     "title": ""
    }
   },
   "source": [
    "**Ingest surrogate key column data and loaddate data**"
   ]
  },
  {
   "cell_type": "code",
   "execution_count": 0,
   "metadata": {
    "application/vnd.databricks.v1+cell": {
     "cellMetadata": {
      "byteLimit": 2048000,
      "rowLimit": 10000
     },
     "inputWidgets": {},
     "nuid": "7ca0d8b6-4a64-4e5f-9a56-daf5790dba4d",
     "showTitle": false,
     "tableResultSettingsMap": {},
     "title": ""
    }
   },
   "outputs": [],
   "source": [
    "from pyspark.sql.window import *\n",
    "\n",
    "stg_channel = (df_channel.withColumn(\"channel_key\", \n",
    "                                     row_number().over(Window.orderBy('ChannelID')))\n",
    "                                     .withColumn(\"LoadDate\", current_timestamp()))\n",
    "\n",
    "stg_paymentmethod = (df_paymentmethod.withColumn(\"paymentmethod_key\", \n",
    "                                                 row_number().over(Window.orderBy   ('PaymentMethodID')))\n",
    "                                                 .withColumn(\"LoadDate\", current_timestamp()))\n",
    "\n",
    "stg_productsubcat = (df_productsubcat.withColumn(\"subcategory_key\", \n",
    "                                                 row_number().over(Window.orderBy('SubCategoryID')))\n",
    "                                                 .withColumn(\"LoadDate\", current_timestamp()))\n"
   ]
  },
  {
   "cell_type": "code",
   "execution_count": 0,
   "metadata": {
    "application/vnd.databricks.v1+cell": {
     "cellMetadata": {
      "byteLimit": 2048000,
      "rowLimit": 10000
     },
     "inputWidgets": {},
     "nuid": "b003c8e1-fa58-4d41-8055-738cba737c77",
     "showTitle": false,
     "tableResultSettingsMap": {},
     "title": ""
    }
   },
   "outputs": [],
   "source": [
    "stg_channel.display()\n",
    "stg_paymentmethod.display()\n",
    "stg_productsubcat.display()"
   ]
  },
  {
   "cell_type": "code",
   "execution_count": 0,
   "metadata": {
    "application/vnd.databricks.v1+cell": {
     "cellMetadata": {
      "byteLimit": 2048000,
      "rowLimit": 10000
     },
     "inputWidgets": {},
     "nuid": "af60ed29-3d95-4869-a120-54a7b116a386",
     "showTitle": false,
     "tableResultSettingsMap": {},
     "title": ""
    }
   },
   "outputs": [],
   "source": [
    "stg_channel.write.format(\"delta\").mode(\"overwrite\").save(gold_channel)\n",
    "stg_paymentmethod.write.format(\"delta\").mode(\"overwrite\").save(gold_pytmethods)\n",
    "stg_productsubcat.write.format(\"delta\").mode(\"overwrite\").save(gold_prdtsubcate)"
   ]
  },
  {
   "cell_type": "code",
   "execution_count": 0,
   "metadata": {
    "application/vnd.databricks.v1+cell": {
     "cellMetadata": {
      "byteLimit": 2048000,
      "implicitDf": true,
      "rowLimit": 10000
     },
     "inputWidgets": {},
     "nuid": "98547b8e-ccb0-4711-88a2-122cb802bb0d",
     "showTitle": false,
     "tableResultSettingsMap": {},
     "title": ""
    }
   },
   "outputs": [],
   "source": [
    "%sql\n",
    "select * from retail_cata.gold.dim_channel"
   ]
  },
  {
   "cell_type": "code",
   "execution_count": 0,
   "metadata": {
    "application/vnd.databricks.v1+cell": {
     "cellMetadata": {
      "byteLimit": 2048000,
      "implicitDf": true,
      "rowLimit": 10000
     },
     "inputWidgets": {},
     "nuid": "2ffa1621-7d9e-4c9c-ac62-e3ad51dc4ede",
     "showTitle": false,
     "tableResultSettingsMap": {},
     "title": ""
    }
   },
   "outputs": [],
   "source": [
    "%sql\n",
    "select * from retail_cata.gold.dim_productsubcat"
   ]
  },
  {
   "cell_type": "code",
   "execution_count": 0,
   "metadata": {
    "application/vnd.databricks.v1+cell": {
     "cellMetadata": {
      "byteLimit": 2048000,
      "implicitDf": true,
      "rowLimit": 10000
     },
     "inputWidgets": {},
     "nuid": "4f72de2b-3712-46cf-9aa5-69d51c7cc24b",
     "showTitle": false,
     "tableResultSettingsMap": {},
     "title": ""
    }
   },
   "outputs": [],
   "source": [
    "%sql\n",
    "select * from retail_cata.gold.dim_paymentmethod"
   ]
  }
 ],
 "metadata": {
  "application/vnd.databricks.v1+notebook": {
   "computePreferences": null,
   "dashboards": [],
   "environmentMetadata": {
    "base_environment": "",
    "environment_version": "3"
   },
   "inputWidgetPreferences": null,
   "language": "python",
   "notebookMetadata": {
    "mostRecentlyExecutedCommandWithImplicitDF": {
     "commandId": 8268068805767558,
     "dataframes": [
      "_sqldf"
     ]
    },
    "pythonIndentUnit": 4
   },
   "notebookName": "dim_reference_table",
   "widgets": {}
  },
  "language_info": {
   "name": "python"
  }
 },
 "nbformat": 4,
 "nbformat_minor": 0
}
