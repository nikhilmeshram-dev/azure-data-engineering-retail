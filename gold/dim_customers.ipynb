{
 "cells": [
  {
   "cell_type": "code",
   "execution_count": 0,
   "metadata": {
    "application/vnd.databricks.v1+cell": {
     "cellMetadata": {
      "byteLimit": 2048000,
      "rowLimit": 10000
     },
     "inputWidgets": {},
     "nuid": "1f4dd359-6fe1-4d41-a159-7ef8a5d3c6ad",
     "showTitle": false,
     "tableResultSettingsMap": {},
     "title": ""
    }
   },
   "outputs": [],
   "source": [
    "from pyspark.sql.functions import *\n",
    "from pyspark.sql.types import *\n",
    "from delta.tables import *"
   ]
  },
  {
   "cell_type": "markdown",
   "metadata": {
    "application/vnd.databricks.v1+cell": {
     "cellMetadata": {
      "byteLimit": 2048000,
      "rowLimit": 10000
     },
     "inputWidgets": {},
     "nuid": "44954dd5-6412-47f7-a78f-9d75e85a60dc",
     "showTitle": false,
     "tableResultSettingsMap": {},
     "title": ""
    }
   },
   "source": [
    "**Define paths**"
   ]
  },
  {
   "cell_type": "code",
   "execution_count": 0,
   "metadata": {
    "application/vnd.databricks.v1+cell": {
     "cellMetadata": {
      "byteLimit": 2048000,
      "implicitDf": true,
      "rowLimit": 10000
     },
     "inputWidgets": {},
     "nuid": "047a06bb-1ad2-4873-a9f2-5152e35db5b5",
     "showTitle": false,
     "tableResultSettingsMap": {},
     "title": ""
    }
   },
   "outputs": [],
   "source": [
    "silver_path = \"abfss://silver@stretailenvdev.dfs.core.windows.net/s_Customers\"\n",
    "gold_path   = \"abfss://gold@stretailenvdev.dfs.core.windows.net/dim_customer\""
   ]
  },
  {
   "cell_type": "markdown",
   "metadata": {
    "application/vnd.databricks.v1+cell": {
     "cellMetadata": {
      "byteLimit": 2048000,
      "rowLimit": 10000
     },
     "inputWidgets": {},
     "nuid": "5aadb7d8-bda9-4f31-95b6-a3f08a288536",
     "showTitle": false,
     "tableResultSettingsMap": {},
     "title": ""
    }
   },
   "source": [
    "**Create delta lake dim_customer table if not exists**"
   ]
  },
  {
   "cell_type": "code",
   "execution_count": 0,
   "metadata": {
    "application/vnd.databricks.v1+cell": {
     "cellMetadata": {
      "byteLimit": 2048000,
      "rowLimit": 10000
     },
     "inputWidgets": {},
     "nuid": "d11c7798-03f2-4c01-b5be-d570849aa6e8",
     "showTitle": false,
     "tableResultSettingsMap": {},
     "title": ""
    }
   },
   "outputs": [],
   "source": [
    "spark.sql(f\"\"\"\n",
    "CREATE TABLE IF NOT EXISTS retail_cata.gold.dim_customer(\n",
    "    Customer_key BIGINT GENERATED ALWAYS AS IDENTITY(START WITH 1 INCREMENT BY 1),\n",
    "    CustomerID STRING,\n",
    "    FirstName STRING,\n",
    "    LastName STRING,\n",
    "    Email STRING,\n",
    "    Phone STRING,\n",
    "    Address STRING,\n",
    "    City STRING,\n",
    "    State STRING,\n",
    "    Pincode STRING,\n",
    "    DateOfBirth DATE,\n",
    "    RegistrationDate TIMESTAMP,\n",
    "    AgeAtRegistration INT,\n",
    "    StartDate TIMESTAMP,\n",
    "    EndDate TIMESTAMP,\n",
    "    IsActive BOOLEAN\n",
    ") USING DELTA\n",
    "LOCATION '{gold_path}'\n",
    "\"\"\")"
   ]
  },
  {
   "cell_type": "markdown",
   "metadata": {
    "application/vnd.databricks.v1+cell": {
     "cellMetadata": {
      "byteLimit": 2048000,
      "rowLimit": 10000
     },
     "inputWidgets": {},
     "nuid": "2428d0d8-632d-49af-8f4e-dd46f31114bb",
     "showTitle": false,
     "tableResultSettingsMap": {},
     "title": ""
    }
   },
   "source": [
    "**Load Silver Data**"
   ]
  },
  {
   "cell_type": "code",
   "execution_count": 0,
   "metadata": {
    "application/vnd.databricks.v1+cell": {
     "cellMetadata": {
      "byteLimit": 2048000,
      "rowLimit": 10000
     },
     "inputWidgets": {},
     "nuid": "9a993698-4fe8-463e-a955-cd9268fa6f14",
     "showTitle": false,
     "tableResultSettingsMap": {},
     "title": ""
    }
   },
   "outputs": [],
   "source": [
    "silver_df = spark.read.format(\"delta\").load(silver_path)"
   ]
  },
  {
   "cell_type": "markdown",
   "metadata": {
    "application/vnd.databricks.v1+cell": {
     "cellMetadata": {
      "byteLimit": 2048000,
      "rowLimit": 10000
     },
     "inputWidgets": {},
     "nuid": "2099d48d-8c92-491f-b3a4-a4cc6f6580d3",
     "showTitle": false,
     "tableResultSettingsMap": {},
     "title": ""
    }
   },
   "source": [
    "**Add SCD2 columns**"
   ]
  },
  {
   "cell_type": "code",
   "execution_count": 0,
   "metadata": {
    "application/vnd.databricks.v1+cell": {
     "cellMetadata": {
      "byteLimit": 2048000,
      "rowLimit": 10000
     },
     "inputWidgets": {},
     "nuid": "47d06df7-a3f0-4a3d-ba04-a8f3e50efe95",
     "showTitle": false,
     "tableResultSettingsMap": {},
     "title": ""
    }
   },
   "outputs": [],
   "source": [
    "stg_customer = silver_df.withColumn(\"AgeAtRegistration\",\n",
    "                                     floor(datediff(col(\"RegistrationDate\"), col(\"DateOfBirth\"))/365.25))\\\n",
    "                        .withColumn(\"StartDate\", current_date()) \\\n",
    "                        .withColumn(\"EndDate\", lit(None).cast(\"timestamp\")) \\\n",
    "                        .withColumn(\"IsActive\", lit(True))"
   ]
  },
  {
   "cell_type": "code",
   "execution_count": 0,
   "metadata": {
    "application/vnd.databricks.v1+cell": {
     "cellMetadata": {
      "byteLimit": 2048000,
      "rowLimit": 10000
     },
     "inputWidgets": {},
     "nuid": "296acd0f-5ab8-47c3-8a7b-6b220ac2c360",
     "showTitle": false,
     "tableResultSettingsMap": {},
     "title": ""
    }
   },
   "outputs": [],
   "source": [
    "stg_customer.display()"
   ]
  },
  {
   "cell_type": "markdown",
   "metadata": {
    "application/vnd.databricks.v1+cell": {
     "cellMetadata": {
      "byteLimit": 2048000,
      "rowLimit": 10000
     },
     "inputWidgets": {},
     "nuid": "eb17e687-374c-48ae-8338-6e4a34f8528e",
     "showTitle": false,
     "tableResultSettingsMap": {},
     "title": ""
    }
   },
   "source": [
    "**Load Gold Delta Table**"
   ]
  },
  {
   "cell_type": "code",
   "execution_count": 0,
   "metadata": {
    "application/vnd.databricks.v1+cell": {
     "cellMetadata": {
      "byteLimit": 2048000,
      "rowLimit": 10000
     },
     "inputWidgets": {},
     "nuid": "84f6bc61-8053-471c-af98-0fbae2615b25",
     "showTitle": false,
     "tableResultSettingsMap": {},
     "title": ""
    }
   },
   "outputs": [],
   "source": [
    "if DeltaTable.isDeltaTable(spark, gold_path):\n",
    "    dim_customer = DeltaTable.forPath(spark, gold_path)\n",
    "else:\n",
    "    # First-time load \n",
    "    stg_customer.write.format(\"delta\").mode(\"append\").save(gold_path)\n",
    "    dim_customer = DeltaTable.forPath(spark, gold_path)\n"
   ]
  },
  {
   "cell_type": "markdown",
   "metadata": {
    "application/vnd.databricks.v1+cell": {
     "cellMetadata": {
      "byteLimit": 2048000,
      "rowLimit": 10000
     },
     "inputWidgets": {},
     "nuid": "8f133ba6-cf79-44f8-af5b-cd220b6d606d",
     "showTitle": false,
     "tableResultSettingsMap": {},
     "title": ""
    }
   },
   "source": [
    "**Merge for SCD2**"
   ]
  },
  {
   "cell_type": "code",
   "execution_count": 0,
   "metadata": {
    "application/vnd.databricks.v1+cell": {
     "cellMetadata": {
      "byteLimit": 2048000,
      "rowLimit": 10000
     },
     "inputWidgets": {},
     "nuid": "662cf520-6530-4d68-a277-36f26241ef06",
     "showTitle": false,
     "tableResultSettingsMap": {},
     "title": ""
    }
   },
   "outputs": [],
   "source": [
    "(\n",
    "    dim_customer.alias(\"t\")\n",
    "    .merge(\n",
    "        stg_customer.alias(\"s\"),\n",
    "        \"t.CustomerID = s.CustomerID AND t.IsActive = TRUE\"\n",
    "    )\n",
    "    .whenMatchedUpdate(\n",
    "        condition=\"\"\"\n",
    "            t.FirstName <> s.FirstName OR\n",
    "            t.LastName <> s.LastName OR\n",
    "            t.Email <> s.Email OR\n",
    "            t.Phone <> s.Phone OR\n",
    "            t.Address <> s.Address OR\n",
    "            t.City <> s.City OR\n",
    "            t.State <> s.State OR\n",
    "            t.Pincode <> s.Pincode OR\n",
    "            t.DateOfBirth <> s.DateOfBirth OR\n",
    "            t.RegistrationDate <> s.RegistrationDate\n",
    "        \"\"\",\n",
    "        set={\n",
    "            \"EndDate\": \"current_date()\",\n",
    "            \"IsActive\": \"False\"\n",
    "        }\n",
    "    )\n",
    "    .whenNotMatchedInsert(\n",
    "        values={\n",
    "            \"CustomerID\": \"s.CustomerID\",\n",
    "            \"FirstName\": \"s.FirstName\",\n",
    "            \"LastName\": \"s.LastName\",\n",
    "            \"Email\": \"s.Email\",\n",
    "            \"Phone\": \"s.Phone\",\n",
    "            \"Address\": \"s.Address\",\n",
    "            \"City\": \"s.City\",\n",
    "            \"State\": \"s.State\",\n",
    "            \"Pincode\": \"s.Pincode\",\n",
    "            \"DateOfBirth\": \"s.DateOfBirth\",\n",
    "            \"RegistrationDate\": \"s.RegistrationDate\",\n",
    "            \"AgeAtRegistration\": \"s.AgeAtRegistration\",\n",
    "            \"StartDate\": \"s.StartDate\",\n",
    "            \"EndDate\": \"s.EndDate\",\n",
    "            \"IsActive\": \"s.IsActive\"\n",
    "        }\n",
    "    )\n",
    "    .execute()\n",
    ")\n"
   ]
  },
  {
   "cell_type": "code",
   "execution_count": 0,
   "metadata": {
    "application/vnd.databricks.v1+cell": {
     "cellMetadata": {
      "byteLimit": 2048000,
      "implicitDf": true,
      "rowLimit": 10000
     },
     "inputWidgets": {},
     "nuid": "940f21ff-e672-4b1f-ae11-d6281f504d8f",
     "showTitle": false,
     "tableResultSettingsMap": {},
     "title": ""
    }
   },
   "outputs": [],
   "source": [
    "%sql\n",
    "SELECT *\n",
    "FROM retail_cata.gold.dim_customer\n",
    "ORDER BY Customer_key DESC\n",
    "LIMIT 10;"
   ]
  }
 ],
 "metadata": {
  "application/vnd.databricks.v1+notebook": {
   "computePreferences": {
    "hardware": {
     "accelerator": null,
     "gpuPoolId": null,
     "memory": null
    }
   },
   "dashboards": [],
   "environmentMetadata": {
    "base_environment": "",
    "environment_version": "3"
   },
   "inputWidgetPreferences": null,
   "language": "python",
   "notebookMetadata": {
    "mostRecentlyExecutedCommandWithImplicitDF": {
     "commandId": 7241867814479091,
     "dataframes": [
      "_sqldf"
     ]
    },
    "pythonIndentUnit": 4
   },
   "notebookName": "dim_customers",
   "widgets": {}
  },
  "language_info": {
   "name": "python"
  }
 },
 "nbformat": 4,
 "nbformat_minor": 0
}
