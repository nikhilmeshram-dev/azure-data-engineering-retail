{
 "cells": [
  {
   "cell_type": "code",
   "execution_count": 0,
   "metadata": {
    "application/vnd.databricks.v1+cell": {
     "cellMetadata": {
      "byteLimit": 2048000,
      "rowLimit": 10000
     },
     "inputWidgets": {},
     "nuid": "059d4c2c-9116-4e9f-8f48-0bc72c0514c1",
     "showTitle": false,
     "tableResultSettingsMap": {},
     "title": ""
    }
   },
   "outputs": [],
   "source": [
    "from pyspark.sql.functions import *\n",
    "from delta.tables import DeltaTable"
   ]
  },
  {
   "cell_type": "markdown",
   "metadata": {
    "application/vnd.databricks.v1+cell": {
     "cellMetadata": {
      "byteLimit": 2048000,
      "rowLimit": 10000
     },
     "inputWidgets": {},
     "nuid": "042fec65-a4ef-45c5-a51a-f1047551abc1",
     "showTitle": false,
     "tableResultSettingsMap": {},
     "title": ""
    }
   },
   "source": [
    "**Create Delta lake table for fact_sales**"
   ]
  },
  {
   "cell_type": "code",
   "execution_count": 0,
   "metadata": {
    "application/vnd.databricks.v1+cell": {
     "cellMetadata": {
      "byteLimit": 2048000,
      "rowLimit": 10000
     },
     "inputWidgets": {},
     "nuid": "bf4ef0cc-9f8b-42c4-949e-007b021d4cba",
     "showTitle": false,
     "tableResultSettingsMap": {},
     "title": ""
    }
   },
   "outputs": [],
   "source": [
    "spark.sql(\"\"\"\n",
    "          CREATE TABLE IF NOT EXISTS retail_cata.gold.fact_sales(\n",
    "              orderdetails_key BIGINT GENERATED ALWAYS AS IDENTITY(START WITH 1 INCREMENT BY 1),\n",
    "              orderdetailid INT,\n",
    "              customer_key BIGINT,\n",
    "              product_key  BIGINT,\n",
    "              store_key BIGINT,\n",
    "              channel_key INT,\n",
    "              order_date_key BIGINT,\n",
    "              quantity INT,\n",
    "              unit_price DECIMAL(18,2),\n",
    "              total_amount DECIMAL(29,2)\n",
    "          )USING DELTA \n",
    "          LOCATION \"abfss://gold@stretailenvdev.dfs.core.windows.net/fact_sales\"\n",
    "          \"\"\")"
   ]
  },
  {
   "cell_type": "markdown",
   "metadata": {
    "application/vnd.databricks.v1+cell": {
     "cellMetadata": {
      "byteLimit": 2048000,
      "rowLimit": 10000
     },
     "inputWidgets": {},
     "nuid": "ef3a590f-01df-471b-a9a3-8b84c5f63d40",
     "showTitle": false,
     "tableResultSettingsMap": {},
     "title": ""
    }
   },
   "source": [
    "**Define paths**"
   ]
  },
  {
   "cell_type": "code",
   "execution_count": 0,
   "metadata": {
    "application/vnd.databricks.v1+cell": {
     "cellMetadata": {
      "byteLimit": 2048000,
      "rowLimit": 10000
     },
     "inputWidgets": {},
     "nuid": "fc3c5291-65b5-4090-b7b0-e485959f3ba2",
     "showTitle": false,
     "tableResultSettingsMap": {},
     "title": ""
    }
   },
   "outputs": [],
   "source": [
    "silver_ord = \"abfss://silver@stretailenvdev.dfs.core.windows.net/s_Orders\"\n",
    "silver_ordedetails = \"abfss://silver@stretailenvdev.dfs.core.windows.net/s_OrderDetails\"\n",
    "gold_path = \"abfss://gold@stretailenvdev.dfs.core.windows.net/fact_sales\""
   ]
  },
  {
   "cell_type": "markdown",
   "metadata": {
    "application/vnd.databricks.v1+cell": {
     "cellMetadata": {
      "byteLimit": 2048000,
      "rowLimit": 10000
     },
     "inputWidgets": {},
     "nuid": "980681f2-fb80-45f1-b26a-a660e07a8daf",
     "showTitle": false,
     "tableResultSettingsMap": {},
     "title": ""
    }
   },
   "source": [
    "**Incremental loading**"
   ]
  },
  {
   "cell_type": "code",
   "execution_count": 0,
   "metadata": {
    "application/vnd.databricks.v1+cell": {
     "cellMetadata": {
      "byteLimit": 2048000,
      "rowLimit": 10000
     },
     "inputWidgets": {},
     "nuid": "0c8a946f-5373-4aa6-8b13-faa555ae42a2",
     "showTitle": false,
     "tableResultSettingsMap": {},
     "title": ""
    }
   },
   "outputs": [],
   "source": [
    "if DeltaTable.isDeltaTable(spark, gold_path):\n",
    "    max_datekey = (spark.read.format(\"delta\").load(gold_path)\n",
    "                  .agg(max(col(\"order_date_key\")).alias(\"max_datekey\"))\n",
    "                  .first()[\"max_datekey\"])\n",
    "else:\n",
    "    max_datekey = None"
   ]
  },
  {
   "cell_type": "code",
   "execution_count": 0,
   "metadata": {
    "application/vnd.databricks.v1+cell": {
     "cellMetadata": {
      "byteLimit": 2048000,
      "rowLimit": 10000
     },
     "inputWidgets": {},
     "nuid": "13e4b96b-eb28-4b44-b237-eb3e08a2d6d3",
     "showTitle": false,
     "tableResultSettingsMap": {},
     "title": ""
    }
   },
   "outputs": [],
   "source": [
    "if max_datekey:\n",
    "    # Incremental read from silver (orders + orderdetails)\n",
    "    inc_orders = (spark.read.format(\"delta\").load(silver_ord)\n",
    "                  .withColumn(\"order_date_key\", date_format(col(\"OrderDate\"), \"yyyyMMdd\").cast(\"bigint\"))\n",
    "                  .filter(col(\"order_date_key\") > lit(max_datekey)))\n",
    "\n",
    "    inc_orderdetails = (spark.read.format(\"delta\").load(silver_ordedetails)\n",
    "                        .join(inc_orders.select(\"OrderID\"), \"OrderID\", \"inner\"))\n",
    "else:\n",
    "    inc_orders = (spark.read.format(\"delta\").load(silver_ord)\n",
    "                  .withColumn(\"order_date_key\", date_format(col(\"OrderDate\"), \"yyyyMMdd\").cast(\"bigint\")))\n",
    "    inc_orderdetails = spark.read.format(\"delta\").load(silver_ordedetails)\n"
   ]
  },
  {
   "cell_type": "markdown",
   "metadata": {
    "application/vnd.databricks.v1+cell": {
     "cellMetadata": {
      "byteLimit": 2048000,
      "rowLimit": 10000
     },
     "inputWidgets": {},
     "nuid": "44fabcac-80e9-46a6-99ed-316caf5bc521",
     "showTitle": false,
     "tableResultSettingsMap": {},
     "title": ""
    }
   },
   "source": [
    "**Create dataframe for dimension table in order to create fact_sales table**"
   ]
  },
  {
   "cell_type": "code",
   "execution_count": 0,
   "metadata": {
    "application/vnd.databricks.v1+cell": {
     "cellMetadata": {
      "byteLimit": 2048000,
      "rowLimit": 10000
     },
     "inputWidgets": {},
     "nuid": "4bcc6222-e096-4b7a-acc6-1729591a355b",
     "showTitle": false,
     "tableResultSettingsMap": {},
     "title": ""
    }
   },
   "outputs": [],
   "source": [
    "df_dimcustomer = spark.sql(\"\"\"SELECT * FROM retail_cata.gold.dim_customer\"\"\")\n",
    "df_dimstore = spark.sql(\"\"\"SELECT * FROM retail_cata.gold.dim_store\"\"\")\n",
    "df_dimchannel = spark.sql(\"\"\"SELECT * FROM retail_cata.gold.dim_channel\"\"\")\n",
    "df_dimproduct = spark.sql(\"\"\"SELECT * FROM retail_cata.gold.dim_product\"\"\") \n"
   ]
  },
  {
   "cell_type": "code",
   "execution_count": 0,
   "metadata": {
    "application/vnd.databricks.v1+cell": {
     "cellMetadata": {
      "byteLimit": 2048000,
      "rowLimit": 10000
     },
     "inputWidgets": {},
     "nuid": "2fb9b1bc-d4a4-4c04-92ed-2d34154af753",
     "showTitle": false,
     "tableResultSettingsMap": {},
     "title": ""
    }
   },
   "outputs": [],
   "source": [
    "df_fact_sales = (\n",
    "    inc_orderdetails.alias(\"i\") \n",
    "    .join(inc_orders.alias(\"o\"), col(\"i.OrderID\") == col(\"o.OrderID\"), \"inner\")\n",
    "    .join(df_dimcustomer.alias(\"c\"), col(\"o.CustomerID\") == col(\"c.CustomerID\"), \"inner\")\n",
    "    .join(df_dimproduct.alias(\"p\"), col(\"i.ProductID\") == col(\"p.ProductID\"), \"inner\")\n",
    "    .join(df_dimstore.alias(\"s\"), col(\"o.StoreID\") == col(\"s.StoreID\"), \"inner\")\n",
    "    .join(df_dimchannel.alias(\"ch\"),col(\"o.ChannelID\") == col(\"ch.ChannelID\"), \"inner\")\n",
    "    .select(\n",
    "        col(\"i.OrderDetailID\").alias(\"orderdetailid\"),\n",
    "        col(\"c.customer_key\").alias(\"customer_key\"),\n",
    "        col(\"p.product_key\").alias(\"product_key\"),\n",
    "        col(\"s.store_key\").alias(\"store_key\"),\n",
    "        col(\"ch.channel_key\").alias(\"channel_key\"),\n",
    "        col(\"o.order_date_key\").alias(\"order_date_key\"),\n",
    "        col(\"i.Quantity\").alias(\"quantity\"),\n",
    "        col(\"i.UnitPrice\").alias(\"unit_price\"),\n",
    "        (col(\"i.Quantity\") * col(\"i.UnitPrice\")).alias(\"total_amount\")    \n",
    "))"
   ]
  },
  {
   "cell_type": "code",
   "execution_count": 0,
   "metadata": {
    "application/vnd.databricks.v1+cell": {
     "cellMetadata": {
      "byteLimit": 2048000,
      "rowLimit": 10000
     },
     "inputWidgets": {},
     "nuid": "2a181f8a-018f-4744-aff6-c8275d8945c1",
     "showTitle": false,
     "tableResultSettingsMap": {},
     "title": ""
    }
   },
   "outputs": [],
   "source": [
    "gold_ready = df_fact_sales"
   ]
  },
  {
   "cell_type": "code",
   "execution_count": 0,
   "metadata": {
    "application/vnd.databricks.v1+cell": {
     "cellMetadata": {
      "byteLimit": 2048000,
      "rowLimit": 10000
     },
     "inputWidgets": {},
     "nuid": "2df5303d-f378-4c46-88c4-9983954a82f0",
     "showTitle": false,
     "tableResultSettingsMap": {},
     "title": ""
    }
   },
   "outputs": [],
   "source": [
    "gold_ready.printSchema()\n"
   ]
  },
  {
   "cell_type": "code",
   "execution_count": 0,
   "metadata": {
    "application/vnd.databricks.v1+cell": {
     "cellMetadata": {
      "byteLimit": 2048000,
      "rowLimit": 10000
     },
     "inputWidgets": {},
     "nuid": "3a0fbc24-80c4-4ce5-941a-8b30be478f51",
     "showTitle": false,
     "tableResultSettingsMap": {},
     "title": ""
    }
   },
   "outputs": [],
   "source": [
    "if DeltaTable.isDeltaTable(spark, gold_path):\n",
    "    gold_factsale = DeltaTable.forPath(spark, gold_path)\n",
    "\n",
    "    (gold_factsale.alias(\"t\")\n",
    "     .merge(gold_ready.alias(\"s\"),\n",
    "            \"t.orderdetailid = s.orderdetailid\")\n",
    "     .whenMatchedUpdate(\n",
    "         set={\n",
    "             \"customer_key\": \"s.customer_key\",\n",
    "             \"product_key\": \"s.product_key\",\n",
    "             \"store_key\": \"s.store_key\",\n",
    "             \"channel_key\": \"s.channel_key\",\n",
    "             \"order_date_key\": \"s.order_date_key\",\n",
    "             \"quantity\": \"s.quantity\",\n",
    "             \"unit_price\": \"s.unit_price\",\n",
    "             \"total_amount\": \"s.total_amount\"\n",
    "         }\n",
    "     )\n",
    "     .whenNotMatchedInsert(\n",
    "          values={\n",
    "                \"orderdetailid\": \"s.orderdetailid\",\n",
    "                \"customer_key\": \"s.customer_key\",\n",
    "                \"product_key\": \"s.product_key\",\n",
    "                \"store_key\": \"s.store_key\",\n",
    "                \"channel_key\": \"s.channel_key\",\n",
    "                \"order_date_key\": \"s.order_date_key\",\n",
    "                \"quantity\": \"s.quantity\",\n",
    "                \"unit_price\": \"s.unit_price\",\n",
    "                \"total_amount\": \"s.total_amount\"\n",
    "                \n",
    "            }\n",
    "     )\n",
    "     .execute())\n",
    "else:\n",
    "    gold_ready.write.mode(\"overwrite\").format(\"delta\").save(gold_path)\n"
   ]
  },
  {
   "cell_type": "code",
   "execution_count": 0,
   "metadata": {
    "application/vnd.databricks.v1+cell": {
     "cellMetadata": {
      "byteLimit": 2048000,
      "rowLimit": 10000
     },
     "inputWidgets": {},
     "nuid": "a26f12a4-04ae-422f-be61-e7f24701e4d4",
     "showTitle": false,
     "tableResultSettingsMap": {},
     "title": ""
    }
   },
   "outputs": [],
   "source": [
    "#df_fact_sales.write.mode(\"overwrite\").format(\"delta\").save(gold_path)"
   ]
  },
  {
   "cell_type": "code",
   "execution_count": 0,
   "metadata": {
    "application/vnd.databricks.v1+cell": {
     "cellMetadata": {
      "byteLimit": 2048000,
      "implicitDf": true,
      "rowLimit": 10000
     },
     "inputWidgets": {},
     "nuid": "83950052-e5e6-4a28-a9f0-f05eab6cde9e",
     "showTitle": false,
     "tableResultSettingsMap": {
      "0": {
       "dataGridStateBlob": "{\"version\":1,\"tableState\":{\"columnPinning\":{\"left\":[\"#row_number#\"],\"right\":[]},\"columnSizing\":{},\"columnVisibility\":{}},\"settings\":{\"columns\":{}},\"syncTimestamp\":1756472945787}",
       "filterBlob": null,
       "queryPlanFiltersBlob": null,
       "tableResultIndex": 0
      }
     },
     "title": ""
    }
   },
   "outputs": [],
   "source": [
    "%sql\n",
    "SELECT *\n",
    "FROM  retail_cata.gold.fact_sales\n",
    "ORDER BY orderdetails_key DESC\n",
    "LIMIT 10;"
   ]
  }
 ],
 "metadata": {
  "application/vnd.databricks.v1+notebook": {
   "computePreferences": null,
   "dashboards": [],
   "environmentMetadata": {
    "base_environment": "",
    "environment_version": "3"
   },
   "inputWidgetPreferences": null,
   "language": "python",
   "notebookMetadata": {
    "mostRecentlyExecutedCommandWithImplicitDF": {
     "commandId": 6120075378759363,
     "dataframes": [
      "_sqldf"
     ]
    },
    "pythonIndentUnit": 4
   },
   "notebookName": "fact_sales",
   "widgets": {}
  },
  "language_info": {
   "name": "python"
  }
 },
 "nbformat": 4,
 "nbformat_minor": 0
}
