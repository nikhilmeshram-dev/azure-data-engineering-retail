{
 "cells": [
  {
   "cell_type": "markdown",
   "metadata": {
    "application/vnd.databricks.v1+cell": {
     "cellMetadata": {
      "byteLimit": 2048000,
      "rowLimit": 10000
     },
     "inputWidgets": {},
     "nuid": "bfed2228-6a7d-4773-abdd-5b3ccb8aeb71",
     "showTitle": false,
     "tableResultSettingsMap": {},
     "title": ""
    }
   },
   "source": [
    "**Create delta lake dim_date table using SQL**"
   ]
  },
  {
   "cell_type": "code",
   "execution_count": 0,
   "metadata": {
    "application/vnd.databricks.v1+cell": {
     "cellMetadata": {
      "byteLimit": 2048000,
      "implicitDf": true,
      "rowLimit": 10000
     },
     "inputWidgets": {},
     "nuid": "dbb1cab1-b9ae-4297-945c-d791f3ab45c5",
     "showTitle": false,
     "tableResultSettingsMap": {},
     "title": ""
    }
   },
   "outputs": [],
   "source": [
    "%sql\n",
    "CREATE TABLE IF NOT EXISTS retail_cata.gold.dim_date\n",
    "USING DELTA\n",
    "LOCATION 'abfss://gold@stretailenvdev.dfs.core.windows.net/reference_data/dim_date'\n",
    "AS\n",
    "WITH DateSequence AS (\n",
    "    SELECT explode(sequence(to_date('2010-01-01'), to_date('2030-12-31'), interval 1 day)) as FullDate\n",
    ")\n",
    "SELECT\n",
    "    CAST(date_format(FullDate, 'yyyyMMdd') AS INT) AS DateKey,\n",
    "    FullDate,\n",
    "    YEAR(FullDate) AS Year,\n",
    "    MONTH(FullDate) AS Month,\n",
    "    date_format(FullDate, 'MMMM') AS MonthName,\n",
    "    CASE WHEN QUARTER(FullDate) = 1 THEN 'Q1'\n",
    "         WHEN QUARTER(FullDate) = 2 THEN 'Q2'\n",
    "         WHEN QUARTER(FullDate) = 3 THEN 'Q3'\n",
    "         WHEN QUARTER(FullDate) = 4 THEN 'Q4' END AS Quarter,\n",
    "    weekofyear(FullDate) AS WeekOfYear,\n",
    "    day(FullDate) AS DayOfMonth,\n",
    "    dayofweek(FullDate) AS DayOfWeek,\n",
    "    date_format(FullDate, 'EEEE') AS DayName,\n",
    "    CASE WHEN dayofweek(FullDate) IN (1,7) THEN 'WeekEnd' ELSE 'WorkDay' END AS IsWeekend\n",
    "FROM DateSequence\n",
    "ORDER BY FullDate;\n"
   ]
  },
  {
   "cell_type": "code",
   "execution_count": 0,
   "metadata": {
    "application/vnd.databricks.v1+cell": {
     "cellMetadata": {
      "byteLimit": 2048000,
      "implicitDf": true,
      "rowLimit": 10000
     },
     "inputWidgets": {},
     "nuid": "8d245978-9543-45e2-9b7b-855a28b4c890",
     "showTitle": false,
     "tableResultSettingsMap": {},
     "title": ""
    }
   },
   "outputs": [],
   "source": [
    "df = spark.sql(\"\"\"select * from retail_cata.gold.dim_date\"\"\")"
   ]
  },
  {
   "cell_type": "code",
   "execution_count": 0,
   "metadata": {
    "application/vnd.databricks.v1+cell": {
     "cellMetadata": {
      "byteLimit": 2048000,
      "rowLimit": 10000
     },
     "inputWidgets": {},
     "nuid": "739e7983-b0cb-4111-a481-34292ab5a0f4",
     "showTitle": false,
     "tableResultSettingsMap": {},
     "title": ""
    }
   },
   "outputs": [],
   "source": [
    "df.display()"
   ]
  },
  {
   "cell_type": "code",
   "execution_count": 0,
   "metadata": {
    "application/vnd.databricks.v1+cell": {
     "cellMetadata": {
      "byteLimit": 2048000,
      "rowLimit": 10000
     },
     "inputWidgets": {},
     "nuid": "3e7b645a-d420-45a7-9ab0-ff6aa6c21020",
     "showTitle": false,
     "tableResultSettingsMap": {},
     "title": ""
    }
   },
   "outputs": [],
   "source": [
    "df.write.format(\"delta\").mode(\"overwrite\").save(\"abfss://gold@stretailenvdev.dfs.core.windows.net/reference_data/dim_date\")"
   ]
  }
 ],
 "metadata": {
  "application/vnd.databricks.v1+notebook": {
   "computePreferences": {
    "hardware": {
     "accelerator": null,
     "gpuPoolId": null,
     "memory": null
    }
   },
   "dashboards": [],
   "environmentMetadata": {
    "base_environment": "",
    "environment_version": "3"
   },
   "inputWidgetPreferences": null,
   "language": "python",
   "notebookMetadata": {
    "mostRecentlyExecutedCommandWithImplicitDF": {
     "commandId": 8268068805767566,
     "dataframes": [
      "_sqldf"
     ]
    },
    "pythonIndentUnit": 4
   },
   "notebookName": "Dim_date",
   "widgets": {}
  },
  "language_info": {
   "name": "python"
  }
 },
 "nbformat": 4,
 "nbformat_minor": 0
}
